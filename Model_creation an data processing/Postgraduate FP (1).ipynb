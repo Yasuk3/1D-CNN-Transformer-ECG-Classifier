{
 "cells": [
  {
   "cell_type": "markdown",
   "id": "f9e855b5",
   "metadata": {},
   "source": [
    "Packages"
   ]
  },
  {
   "cell_type": "code",
   "execution_count": null,
   "id": "0b885759",
   "metadata": {},
   "outputs": [],
   "source": [
    "\n"
   ]
  },
  {
   "cell_type": "code",
   "execution_count": 1,
   "id": "0551ad40",
   "metadata": {
    "scrolled": true
   },
   "outputs": [],
   "source": [
    "#pip install wfdb\n",
    "#!pip install pydot"
   ]
  },
  {
   "cell_type": "code",
   "execution_count": 2,
   "id": "d9049199",
   "metadata": {},
   "outputs": [],
   "source": [
    "#pip install tensorflow-addons\n",
    "#!pip install graphviz"
   ]
  },
  {
   "cell_type": "markdown",
   "id": "613f2330",
   "metadata": {},
   "source": [
    "Modules"
   ]
  },
  {
   "cell_type": "code",
   "execution_count": 3,
   "id": "e9517714",
   "metadata": {},
   "outputs": [
    {
     "name": "stdout",
     "output_type": "stream",
     "text": [
      "2.10.0\n"
     ]
    },
    {
     "name": "stderr",
     "output_type": "stream",
     "text": [
      "C:\\Users\\Yasuk3\\anaconda3\\lib\\site-packages\\tensorflow_addons\\utils\\tfa_eol_msg.py:23: UserWarning: \n",
      "\n",
      "TensorFlow Addons (TFA) has ended development and introduction of new features.\n",
      "TFA has entered a minimal maintenance and release mode until a planned end of life in May 2024.\n",
      "Please modify downstream libraries to take dependencies from other repositories in our TensorFlow community (e.g. Keras, Keras-CV, and Keras-NLP). \n",
      "\n",
      "For more information see: https://github.com/tensorflow/addons/issues/2807 \n",
      "\n",
      "  warnings.warn(\n"
     ]
    }
   ],
   "source": [
    "import wfdb\n",
    "import numpy as np\n",
    "import pandas as pd\n",
    "import matplotlib.pyplot as plt\n",
    "import csv\n",
    "from sklearn.model_selection import train_test_split\n",
    "from sklearn.preprocessing import MinMaxScaler\n",
    "import tensorflow as tf\n",
    "from tensorflow.keras import layers, models\n",
    "import tensorflow_addons as tfa\n",
    "print(tf.__version__)\n",
    "from tensorflow.keras.callbacks import EarlyStopping"
   ]
  },
  {
   "cell_type": "markdown",
   "id": "e70356f7",
   "metadata": {},
   "source": [
    "# ECG Segmentation"
   ]
  },
  {
   "cell_type": "code",
   "execution_count": 4,
   "id": "50b44f28",
   "metadata": {},
   "outputs": [],
   "source": [
    "# Get the ECG signal and sampling frequency\n",
    "record30 = wfdb.rdrecord('30', pn_dir='sddb')\n",
    "ecg_signal30 = record30.p_signal[:, 0]\n",
    "ecg_signal30_c1 = record30.p_signal[:, 1]\n",
    "fs = record30.fs \n",
    "\n",
    "# Define the start and end time of the VF and normal segment\n",
    "start_time_vf30 = \"07:54:33\"\n",
    "end_time_vf30 = \"08:05:47\"\n",
    "start_time_nonvf30 = \"00:13:02\"\n",
    "end_time_nonvf30 = \"00:33:31\"\n",
    "\n",
    "\n",
    "# Convert the start and end time to sample indices\n",
    "start_vf_sample30 = int(sum(x * int(t) for x, t in zip([3600, 60, 1], start_time_vf30.split(':'))) * fs)\n",
    "end_vf_sample30 = int(sum(x * int(t) for x, t in zip([3600, 60, 1], end_time_vf30.split(':'))) * fs)\n",
    "start_nonvf_sample30 = int(sum(x * int(t) for x, t in zip([3600, 60, 1], start_time_nonvf30.split(':'))) * fs)\n",
    "end_nonvf_sample30 = int(sum(x * int(t) for x, t in zip([3600, 60, 1], end_time_nonvf30.split(':'))) * fs)\n",
    "\n",
    "# Extract the required segments\n",
    "vf_segment30 = ecg_signal30[start_vf_sample30:end_vf_sample30]\n",
    "vf_segment_c130 = ecg_signal30_c1[start_vf_sample30:end_vf_sample30]\n",
    "nonvf_segment30 = ecg_signal30[start_nonvf_sample30:end_nonvf_sample30]\n",
    "\n",
    "# Split the ECG segment into smaller segments of 10 seconds\n",
    "segment_duration = 10  # seconds\n",
    "segment_length = segment_duration * fs\n",
    "num_segments_vf30 = len(vf_segment30) // segment_length\n",
    "num_segment_vf_c130 = len(vf_segment_c130) // segment_length\n",
    "num_segments_nonvf30 = len(nonvf_segment30) // segment_length\n",
    "\n",
    "\n",
    "#Create segments\n",
    "vf_segments30 = [vf_segment30[i * segment_length:(i + 1) * segment_length] for i in range(num_segments_vf30)]\n",
    "nonvf_segments30 = [nonvf_segment30[i * segment_length:(i + 1) * segment_length] for i in range(num_segments_nonvf30)]\n",
    "vf_segments_c130 = [vf_segment_c130[i * segment_length:(i + 1) * segment_length] for i in range(num_segment_vf_c130)]"
   ]
  },
  {
   "cell_type": "code",
   "execution_count": 5,
   "id": "992c6e95",
   "metadata": {},
   "outputs": [],
   "source": [
    "record31 = wfdb.rdrecord('31', pn_dir='sddb')\n",
    "ecg_signal31 = record31.p_signal[:, 0]\n",
    "ecg_signal31_c1 = record31.p_signal[:, 1]\n",
    "\n",
    "start_time_vf31 = \"13:42:24\"\n",
    "end_time_vf31 = \"13:58:40\"\n",
    "start_time_nonvf31 = \"00:01:31\"\n",
    "end_time_nonvf31 = \"02:06:29\"\n",
    "\n",
    "\n",
    "start_vf_sample31 = int(sum(x * int(t) for x, t in zip([3600, 60, 1], start_time_vf31.split(':'))) * fs)\n",
    "end_vf_sample31 = int(sum(x * int(t) for x, t in zip([3600, 60, 1], end_time_vf31.split(':'))) * fs)\n",
    "start_nonvf_sample31 = int(sum(x * int(t) for x, t in zip([3600, 60, 1], start_time_nonvf31.split(':'))) * fs)\n",
    "end_nonvf_sample31 = int(sum(x * int(t) for x, t in zip([3600, 60, 1], end_time_nonvf31.split(':'))) * fs)\n",
    "\n",
    "\n",
    "vf_segment31 = ecg_signal31[start_vf_sample31:end_vf_sample31]\n",
    "vf_segment_c131 = ecg_signal31_c1[start_vf_sample31:end_vf_sample31]\n",
    "nonvf_segment31 = ecg_signal31[start_nonvf_sample31:end_nonvf_sample31]\n",
    "\n",
    "\n",
    "segment_duration = 10  # seconds\n",
    "segment_length = segment_duration * fs\n",
    "num_segments_vf31 = len(vf_segment31) // segment_length\n",
    "num_segment_vf_c131 = len(vf_segment_c131) // segment_length\n",
    "num_segments_nonvf31 = len(nonvf_segment31) // segment_length\n",
    "\n",
    "\n",
    "\n",
    "vf_segments31 = [vf_segment31[i * segment_length:(i + 1) * segment_length] for i in range(num_segments_vf31)]\n",
    "nonvf_segments31 = [nonvf_segment31[i * segment_length:(i + 1) * segment_length] for i in range(num_segments_nonvf31)]\n",
    "vf_segments_c131 = [vf_segment_c131[i * segment_length:(i + 1) * segment_length] for i in range(num_segment_vf_c131)]"
   ]
  },
  {
   "cell_type": "code",
   "execution_count": 6,
   "id": "6e8e0504",
   "metadata": {},
   "outputs": [],
   "source": [
    "record32 = wfdb.rdrecord('32', pn_dir='sddb')\n",
    "ecg_signal32 = record32.p_signal[:, 0]\n",
    "ecg_signal32_c1 = record32.p_signal[:, 1]\n",
    "\n",
    "start_time_vf32 = \"16:45:18\"\n",
    "end_time_vf32 = \"16:56:45\"\n",
    "start_time_nonvf32 = \"17:21:32\"\n",
    "end_time_nonvf32 = \"24:07:53\"\n",
    "\n",
    "\n",
    "start_vf_sample32 = int(sum(x * int(t) for x, t in zip([3600, 60, 1], start_time_vf32.split(':'))) * fs)\n",
    "end_vf_sample32 = int(sum(x * int(t) for x, t in zip([3600, 60, 1], end_time_vf32.split(':'))) * fs)\n",
    "start_nonvf_sample32 = int(sum(x * int(t) for x, t in zip([3600, 60, 1], start_time_nonvf32.split(':'))) * fs)\n",
    "end_nonvf_sample32 = int(sum(x * int(t) for x, t in zip([3600, 60, 1], end_time_nonvf32.split(':'))) * fs)\n",
    "\n",
    "\n",
    "vf_segment32 = ecg_signal32[start_vf_sample32:end_vf_sample32]\n",
    "vf_segment_c132 = ecg_signal32_c1[start_vf_sample32:end_vf_sample32]\n",
    "nonvf_segment32 = ecg_signal32[start_nonvf_sample32:end_nonvf_sample32]\n",
    "\n",
    "\n",
    "segment_duration = 10  # seconds\n",
    "segment_length = segment_duration * fs\n",
    "num_segments_vf32 = len(vf_segment32) // segment_length\n",
    "num_segment_vf_c132 = len(vf_segment_c132) // segment_length\n",
    "num_segments_nonvf32 = len(nonvf_segment32) // segment_length\n",
    "\n",
    "\n",
    "\n",
    "vf_segments32 = [vf_segment32[i * segment_length:(i + 1) * segment_length] for i in range(num_segments_vf32)]\n",
    "nonvf_segments32 = [nonvf_segment32[i * segment_length:(i + 1) * segment_length] for i in range(num_segments_nonvf32)]\n",
    "vf_segments_c132 = [vf_segment_c132[i * segment_length:(i + 1) * segment_length] for i in range(num_segment_vf_c132)]"
   ]
  },
  {
   "cell_type": "code",
   "execution_count": 7,
   "id": "ed58a16f",
   "metadata": {},
   "outputs": [],
   "source": [
    "record33 = wfdb.rdrecord('33', pn_dir='sddb')\n",
    "ecg_signal33 = record33.p_signal[:, 0]\n",
    "ecg_signal33_c1 = record33.p_signal[:, 1]\n",
    "\n",
    "start_time_vf33 = \"04:46:19\"\n",
    "end_time_vf33 = \"04:49:54\"\n",
    "start_time_nonvf33 = \"00:57:53\"\n",
    "end_time_nonvf33 = \"01:09:00\"\n",
    "\n",
    "\n",
    "start_vf_sample33 = int(sum(x * int(t) for x, t in zip([3600, 60, 1], start_time_vf33.split(':'))) * fs)\n",
    "end_vf_sample33 = int(sum(x * int(t) for x, t in zip([3600, 60, 1], end_time_vf33.split(':'))) * fs)\n",
    "start_nonvf_sample33 = int(sum(x * int(t) for x, t in zip([3600, 60, 1], start_time_nonvf33.split(':'))) * fs)\n",
    "end_nonvf_sample33 = int(sum(x * int(t) for x, t in zip([3600, 60, 1], end_time_nonvf33.split(':'))) * fs)\n",
    "\n",
    "\n",
    "vf_segment33 = ecg_signal33[start_vf_sample33:end_vf_sample33]\n",
    "vf_segment_c133 = ecg_signal33_c1[start_vf_sample33:end_vf_sample33]\n",
    "nonvf_segment33 = ecg_signal33[start_nonvf_sample33:end_nonvf_sample33]\n",
    "\n",
    "\n",
    "segment_duration = 10  # seconds\n",
    "segment_length = segment_duration * fs\n",
    "num_segments_vf33 = len(vf_segment33) // segment_length\n",
    "num_segment_vf_c133 = len(vf_segment_c133) // segment_length\n",
    "num_segments_nonvf33 = len(nonvf_segment33) // segment_length\n",
    "\n",
    "\n",
    "\n",
    "vf_segments33 = [vf_segment33[i * segment_length:(i + 1) * segment_length] for i in range(num_segments_vf33)]\n",
    "nonvf_segments33 = [nonvf_segment33[i * segment_length:(i + 1) * segment_length] for i in range(num_segments_nonvf33)]\n",
    "vf_segments_c133 = [vf_segment_c133[i * segment_length:(i + 1) * segment_length] for i in range(num_segment_vf_c133)]"
   ]
  },
  {
   "cell_type": "code",
   "execution_count": 8,
   "id": "bfd474b6",
   "metadata": {},
   "outputs": [],
   "source": [
    "record34 = wfdb.rdrecord('34', pn_dir='sddb')\n",
    "ecg_signal34 = record34.p_signal[:, 0]\n",
    "ecg_signal34_c1 = record34.p_signal[:, 1]\n",
    "\n",
    "start_time_vf34 = \"6:35:44\"\n",
    "end_time_vf34 = \"6:36:28\"\n",
    "start_time_nonvf34 = \"6:37:08\"\n",
    "end_time_nonvf34 = \"6:37:34\"\n",
    "\n",
    "\n",
    "start_vf_sample34 = int(sum(x * int(t) for x, t in zip([3600, 60, 1], start_time_vf34.split(':'))) * fs)\n",
    "end_vf_sample34 = int(sum(x * int(t) for x, t in zip([3600, 60, 1], end_time_vf34.split(':'))) * fs)\n",
    "start_nonvf_sample34 = int(sum(x * int(t) for x, t in zip([3600, 60, 1], start_time_nonvf34.split(':'))) * fs)\n",
    "end_nonvf_sample34 = int(sum(x * int(t) for x, t in zip([3600, 60, 1], end_time_nonvf34.split(':'))) * fs)\n",
    "\n",
    "\n",
    "vf_segment34 = ecg_signal34[start_vf_sample34:end_vf_sample34]\n",
    "vf_segment_c134 = ecg_signal34_c1[start_vf_sample34:end_vf_sample34]\n",
    "nonvf_segment34 = ecg_signal34[start_nonvf_sample34:end_nonvf_sample34]\n",
    "\n",
    "\n",
    "segment_duration = 10  # seconds\n",
    "segment_length = segment_duration * fs\n",
    "num_segments_vf34 = len(vf_segment34) // segment_length\n",
    "num_segment_vf_c134 = len(vf_segment_c134) // segment_length\n",
    "num_segments_nonvf34 = len(nonvf_segment34) // segment_length\n",
    "\n",
    "\n",
    "\n",
    "vf_segments34 = [vf_segment34[i * segment_length:(i + 1) * segment_length] for i in range(num_segments_vf34)]\n",
    "nonvf_segments34 = [nonvf_segment34[i * segment_length:(i + 1) * segment_length] for i in range(num_segments_nonvf34)]\n",
    "vf_segments_c134 = [vf_segment_c134[i * segment_length:(i + 1) * segment_length] for i in range(num_segment_vf_c134)]"
   ]
  },
  {
   "cell_type": "code",
   "execution_count": 9,
   "id": "ba5e6ca5",
   "metadata": {},
   "outputs": [],
   "source": [
    "record35 = wfdb.rdrecord('35', pn_dir='sddb')\n",
    "ecg_signal35 = record35.p_signal[:, 0]\n",
    "ecg_signal35_c1 = record35.p_signal[:, 1]\n",
    "\n",
    "start_time_vf35 = \"24:34:56\"\n",
    "end_time_vf35 = \"24:40:01\"\n",
    "\n",
    "\n",
    "\n",
    "start_vf_sample35 = int(sum(x * int(t) for x, t in zip([3600, 60, 1], start_time_vf35.split(':'))) * fs)\n",
    "end_vf_sample35 = int(sum(x * int(t) for x, t in zip([3600, 60, 1], end_time_vf35.split(':'))) * fs)\n",
    "\n",
    "\n",
    "\n",
    "vf_segment35 = ecg_signal35[start_vf_sample35:end_vf_sample35]\n",
    "vf_segment_c135 = ecg_signal35_c1[start_vf_sample35:end_vf_sample35]\n",
    "\n",
    "\n",
    "\n",
    "segment_duration = 10  # seconds\n",
    "segment_length = segment_duration * fs\n",
    "num_segments_vf35 = len(vf_segment35) // segment_length\n",
    "num_segment_vf_c135 = len(vf_segment_c135) // segment_length\n",
    "\n",
    "\n",
    "\n",
    "vf_segments35 = [vf_segment35[i * segment_length:(i + 1) * segment_length] for i in range(num_segments_vf35)]\n",
    "vf_segments_c135 = [vf_segment_c135[i * segment_length:(i + 1) * segment_length] for i in range(num_segment_vf_c135)]"
   ]
  },
  {
   "cell_type": "code",
   "execution_count": 10,
   "id": "c6785f51",
   "metadata": {},
   "outputs": [
    {
     "data": {
      "text/plain": [
       "(2500,)"
      ]
     },
     "execution_count": 10,
     "metadata": {},
     "output_type": "execute_result"
    }
   ],
   "source": [
    "vf_segments35[2].shape"
   ]
  },
  {
   "cell_type": "code",
   "execution_count": 11,
   "id": "58fbd4c3",
   "metadata": {},
   "outputs": [],
   "source": [
    "record36 = wfdb.rdrecord('36', pn_dir='sddb')\n",
    "ecg_signal36 = record36.p_signal[:, 0]\n",
    "ecg_signal36_c1 = record36.p_signal[:, 1]\n",
    "\n",
    "start_time_vf36 = \"18:59:01\"\n",
    "end_time_vf36 = \"20:20:26\"\n",
    "start_time_nonvf36 = \"8:57:17\"\n",
    "end_time_nonvf36 = \"9:20:34\"\n",
    "\n",
    "\n",
    "start_vf_sample36 = int(sum(x * int(t) for x, t in zip([3600, 60, 1], start_time_vf36.split(':'))) * fs)\n",
    "end_vf_sample36 = int(sum(x * int(t) for x, t in zip([3600, 60, 1], end_time_vf36.split(':'))) * fs)\n",
    "start_nonvf_sample36 = int(sum(x * int(t) for x, t in zip([3600, 60, 1], start_time_nonvf36.split(':'))) * fs)\n",
    "end_nonvf_sample36 = int(sum(x * int(t) for x, t in zip([3600, 60, 1], end_time_nonvf36.split(':'))) * fs)\n",
    "\n",
    "\n",
    "vf_segment36 = ecg_signal36[start_vf_sample36:end_vf_sample36]\n",
    "vf_segment_c136 = ecg_signal36_c1[start_vf_sample36:end_vf_sample36]\n",
    "nonvf_segment36 = ecg_signal36[start_nonvf_sample36:end_nonvf_sample36]\n",
    "\n",
    "\n",
    "segment_duration = 10  # seconds\n",
    "segment_length = segment_duration * fs\n",
    "num_segments_vf36 = len(vf_segment36) // segment_length\n",
    "num_segment_vf_c136 = len(vf_segment_c136) // segment_length\n",
    "num_segments_nonvf36 = len(nonvf_segment36) // segment_length\n",
    "\n",
    "\n",
    "\n",
    "vf_segments36 = [vf_segment36[i * segment_length:(i + 1) * segment_length] for i in range(num_segments_vf36)]\n",
    "nonvf_segments36 = [nonvf_segment36[i * segment_length:(i + 1) * segment_length] for i in range(num_segments_nonvf36)]\n",
    "vf_segments_c136 = [vf_segment_c136[i * segment_length:(i + 1) * segment_length] for i in range(num_segment_vf_c136)]"
   ]
  },
  {
   "cell_type": "code",
   "execution_count": 12,
   "id": "87d36c6f",
   "metadata": {},
   "outputs": [],
   "source": [
    "record37 = wfdb.rdrecord('37', pn_dir='sddb')\n",
    "ecg_signal37 = record37.p_signal[:, 0]\n",
    "ecg_signal37_c1 = record37.p_signal[:, 1]\n",
    "\n",
    "start_time_vf37 = \"1:31:13\"\n",
    "end_time_vf37 = \"1:39:16\"\n",
    "start_time_nonvf37 = \"0:11:06\"\n",
    "end_time_nonvf37 = \"1:31:13\"\n",
    "\n",
    "\n",
    "start_vf_sample37 = int(sum(x * int(t) for x, t in zip([3600, 60, 1], start_time_vf37.split(':'))) * fs)\n",
    "end_vf_sample37 = int(sum(x * int(t) for x, t in zip([3600, 60, 1], end_time_vf37.split(':'))) * fs)\n",
    "start_nonvf_sample37 = int(sum(x * int(t) for x, t in zip([3600, 60, 1], start_time_nonvf37.split(':'))) * fs)\n",
    "end_nonvf_sample37 = int(sum(x * int(t) for x, t in zip([3600, 60, 1], end_time_nonvf37.split(':'))) * fs)\n",
    "\n",
    "\n",
    "vf_segment37 = ecg_signal37[start_vf_sample37:end_vf_sample37]\n",
    "vf_segment_c137 = ecg_signal37_c1[start_vf_sample37:end_vf_sample37]\n",
    "nonvf_segment37 = ecg_signal37[start_nonvf_sample37:end_nonvf_sample37]\n",
    "\n",
    "\n",
    "segment_duration = 10  # seconds\n",
    "segment_length = segment_duration * fs\n",
    "num_segments_vf37 = len(vf_segment37) // segment_length\n",
    "num_segment_vf_c137 = len(vf_segment_c137) // segment_length\n",
    "num_segments_nonvf37 = len(nonvf_segment37) // segment_length\n",
    "\n",
    "\n",
    "\n",
    "vf_segments37 = [vf_segment37[i * segment_length:(i + 1) * segment_length] for i in range(num_segments_vf37)]\n",
    "nonvf_segments37 = [nonvf_segment37[i * segment_length:(i + 1) * segment_length] for i in range(num_segments_nonvf37)]\n",
    "vf_segments_c137 = [vf_segment_c137[i * segment_length:(i + 1) * segment_length] for i in range(num_segment_vf_c137)]"
   ]
  },
  {
   "cell_type": "code",
   "execution_count": 13,
   "id": "a920ce45",
   "metadata": {},
   "outputs": [],
   "source": [
    "record38 = wfdb.rdrecord('38', pn_dir='sddb')\n",
    "ecg_signal38 = record38.p_signal[:, 0]\n",
    "ecg_signal38_c1 = record38.p_signal[:, 1]\n",
    "\n",
    "start_time_vf38 = \"8:01:54\"\n",
    "end_time_vf38 = \"8:02:12\"\n",
    "start_time_nonvf38 = \"6:42:30\"\n",
    "end_time_nonvf38 = \"6:43:02\"\n",
    "\n",
    "\n",
    "start_vf_sample38 = int(sum(x * int(t) for x, t in zip([3600, 60, 1], start_time_vf38.split(':'))) * fs)\n",
    "end_vf_sample38 = int(sum(x * int(t) for x, t in zip([3600, 60, 1], end_time_vf38.split(':'))) * fs)\n",
    "start_nonvf_sample38 = int(sum(x * int(t) for x, t in zip([3600, 60, 1], start_time_nonvf38.split(':'))) * fs)\n",
    "end_nonvf_sample38 = int(sum(x * int(t) for x, t in zip([3600, 60, 1], end_time_nonvf38.split(':'))) * fs)\n",
    "\n",
    "\n",
    "vf_segment38 = ecg_signal38[start_vf_sample38:end_vf_sample38]\n",
    "vf_segment_c138 = ecg_signal38_c1[start_vf_sample38:end_vf_sample38]\n",
    "nonvf_segment38 = ecg_signal38[start_nonvf_sample38:end_nonvf_sample38]\n",
    "\n",
    "\n",
    "segment_duration = 10  # seconds\n",
    "segment_length = segment_duration * fs\n",
    "num_segments_vf38 = len(vf_segment38) // segment_length\n",
    "num_segment_vf_c138 = len(vf_segment_c138) // segment_length\n",
    "num_segments_nonvf38 = len(nonvf_segment38) // segment_length\n",
    "\n",
    "\n",
    "\n",
    "vf_segments38 = [vf_segment38[i * segment_length:(i + 1) * segment_length] for i in range(num_segments_vf38)]\n",
    "nonvf_segments38 = [nonvf_segment38[i * segment_length:(i + 1) * segment_length] for i in range(num_segments_nonvf38)]\n",
    "vf_segments_c138 = [vf_segment_c138[i * segment_length:(i + 1) * segment_length] for i in range(num_segment_vf_c138)]"
   ]
  },
  {
   "cell_type": "code",
   "execution_count": 14,
   "id": "5c09f755",
   "metadata": {},
   "outputs": [],
   "source": [
    "record39 = wfdb.rdrecord('39', pn_dir='sddb')\n",
    "ecg_signal39 = record39.p_signal[:, 0]\n",
    "ecg_signal39_c1 = record39.p_signal[:, 1]\n",
    "\n",
    "start_time_vf39 = \"4:37:51\"\n",
    "end_time_vf39 = \"4:41:26\"\n",
    "start_time_nonvf39 = \"4:31:47\"\n",
    "end_time_nonvf39 = \"4:33:20\"\n",
    "\n",
    "\n",
    "start_vf_sample39 = int(sum(x * int(t) for x, t in zip([3600, 60, 1], start_time_vf39.split(':'))) * fs)\n",
    "end_vf_sample39 = int(sum(x * int(t) for x, t in zip([3600, 60, 1], end_time_vf39.split(':'))) * fs)\n",
    "start_nonvf_sample39 = int(sum(x * int(t) for x, t in zip([3600, 60, 1], start_time_nonvf39.split(':'))) * fs)\n",
    "end_nonvf_sample39 = int(sum(x * int(t) for x, t in zip([3600, 60, 1], end_time_nonvf39.split(':'))) * fs)\n",
    "\n",
    "\n",
    "vf_segment39 = ecg_signal39[start_vf_sample39:end_vf_sample39]\n",
    "vf_segment_c139 = ecg_signal39_c1[start_vf_sample39:end_vf_sample39]\n",
    "nonvf_segment39 = ecg_signal39[start_nonvf_sample39:end_nonvf_sample39]\n",
    "\n",
    "\n",
    "segment_duration = 10  # seconds\n",
    "segment_length = segment_duration * fs\n",
    "num_segments_vf39 = len(vf_segment39) // segment_length\n",
    "num_segment_vf_c139 = len(vf_segment_c139) // segment_length\n",
    "num_segments_nonvf39 = len(nonvf_segment39) // segment_length\n",
    "\n",
    "\n",
    "\n",
    "vf_segments39 = [vf_segment39[i * segment_length:(i + 1) * segment_length] for i in range(num_segments_vf39)]\n",
    "nonvf_segments39 = [nonvf_segment39[i * segment_length:(i + 1) * segment_length] for i in range(num_segments_nonvf39)]\n",
    "vf_segments_c139 = [vf_segment_c139[i * segment_length:(i + 1) * segment_length] for i in range(num_segment_vf_c139)]"
   ]
  },
  {
   "cell_type": "code",
   "execution_count": 15,
   "id": "70d9ab82",
   "metadata": {},
   "outputs": [],
   "source": [
    "record41 = wfdb.rdrecord('41', pn_dir='sddb')\n",
    "ecg_signal41 = record41.p_signal[:, 0]\n",
    "ecg_signal41_c1 = record41.p_signal[:, 1]\n",
    "\n",
    "start_time_vf41 = \"2:59:24\"\n",
    "end_time_vf41 = \"3:01:29\"\n",
    "start_time_nonvf41 = \"2:25:12\"\n",
    "end_time_nonvf41 = \"2:42:54\"\n",
    "\n",
    "\n",
    "start_vf_sample41 = int(sum(x * int(t) for x, t in zip([3600, 60, 1], start_time_vf41.split(':'))) * fs)\n",
    "end_vf_sample41 = int(sum(x * int(t) for x, t in zip([3600, 60, 1], end_time_vf41.split(':'))) * fs)\n",
    "start_nonvf_sample41 = int(sum(x * int(t) for x, t in zip([3600, 60, 1], start_time_nonvf41.split(':'))) * fs)\n",
    "end_nonvf_sample41 = int(sum(x * int(t) for x, t in zip([3600, 60, 1], end_time_nonvf41.split(':'))) * fs)\n",
    "\n",
    "\n",
    "vf_segment41 = ecg_signal41[start_vf_sample41:end_vf_sample41]\n",
    "vf_segment_c141 = ecg_signal41_c1[start_vf_sample41:end_vf_sample41]\n",
    "nonvf_segment41 = ecg_signal41[start_nonvf_sample41:end_nonvf_sample41]\n",
    "\n",
    "\n",
    "segment_duration = 10  # seconds\n",
    "segment_length = segment_duration * fs\n",
    "num_segments_vf41 = len(vf_segment41) // segment_length\n",
    "num_segment_vf_c141 = len(vf_segment_c141) // segment_length\n",
    "num_segments_nonvf41 = len(nonvf_segment41) // segment_length\n",
    "\n",
    "\n",
    "\n",
    "vf_segments41 = [vf_segment41[i * segment_length:(i + 1) * segment_length] for i in range(num_segments_vf41)]\n",
    "nonvf_segments41 = [nonvf_segment41[i * segment_length:(i + 1) * segment_length] for i in range(num_segments_nonvf41)]\n",
    "vf_segments_c141 = [vf_segment_c141[i * segment_length:(i + 1) * segment_length] for i in range(num_segment_vf_c141)]"
   ]
  },
  {
   "cell_type": "code",
   "execution_count": 16,
   "id": "8ffc612b",
   "metadata": {},
   "outputs": [],
   "source": [
    "record43 = wfdb.rdrecord('43', pn_dir='sddb')\n",
    "ecg_signal43 = record43.p_signal[:, 0]\n",
    "ecg_signal43_c1 = record43.p_signal[:, 1]\n",
    "\n",
    "start_time_vf43 = \"15:37:11\"\n",
    "end_time_vf43 = \"15:37:56\"\n",
    "start_time_nonvf43 = \"1:08:26\"\n",
    "end_time_nonvf43 = \"1:16:54\"\n",
    "\n",
    "\n",
    "start_vf_sample43 = int(sum(x * int(t) for x, t in zip([3600, 60, 1], start_time_vf43.split(':'))) * fs)\n",
    "end_vf_sample43 = int(sum(x * int(t) for x, t in zip([3600, 60, 1], end_time_vf43.split(':'))) * fs)\n",
    "start_nonvf_sample43 = int(sum(x * int(t) for x, t in zip([3600, 60, 1], start_time_nonvf43.split(':'))) * fs)\n",
    "end_nonvf_sample43 = int(sum(x * int(t) for x, t in zip([3600, 60, 1], end_time_nonvf43.split(':'))) * fs)\n",
    "\n",
    "\n",
    "vf_segment43 = ecg_signal43[start_vf_sample43:end_vf_sample43]\n",
    "vf_segment_c143 = ecg_signal43_c1[start_vf_sample43:end_vf_sample43]\n",
    "nonvf_segment43 = ecg_signal43[start_nonvf_sample43:end_nonvf_sample43]\n",
    "\n",
    "\n",
    "segment_duration = 10  # seconds\n",
    "segment_length = segment_duration * fs\n",
    "num_segments_vf43 = len(vf_segment43) // segment_length\n",
    "num_segment_vf_c143 = len(vf_segment_c143) // segment_length\n",
    "num_segments_nonvf43 = len(nonvf_segment43) // segment_length\n",
    "\n",
    "\n",
    "\n",
    "vf_segments43 = [vf_segment43[i * segment_length:(i + 1) * segment_length] for i in range(num_segments_vf43)]\n",
    "nonvf_segments43 = [nonvf_segment43[i * segment_length:(i + 1) * segment_length] for i in range(num_segments_nonvf43)]\n",
    "vf_segments_c143 = [vf_segment_c143[i * segment_length:(i + 1) * segment_length] for i in range(num_segment_vf_c143)]"
   ]
  },
  {
   "cell_type": "code",
   "execution_count": 17,
   "id": "5ad2bc10",
   "metadata": {},
   "outputs": [],
   "source": [
    "record44 = wfdb.rdrecord('44', pn_dir='sddb')\n",
    "ecg_signal44 = record44.p_signal[:, 0]\n",
    "ecg_signal44_c1 = record44.p_signal[:, 1]\n",
    "\n",
    "start_time_vf44 = \"19:38:45\"\n",
    "end_time_vf44 = \"19:39:23\"\n",
    "start_time_nonvf44 = \"0:15:45\"\n",
    "end_time_nonvf44 = \"0:16:42\"\n",
    "\n",
    "\n",
    "start_vf_sample44 = int(sum(x * int(t) for x, t in zip([3600, 60, 1], start_time_vf44.split(':'))) * fs)\n",
    "end_vf_sample44 = int(sum(x * int(t) for x, t in zip([3600, 60, 1], end_time_vf44.split(':'))) * fs)\n",
    "start_nonvf_sample44 = int(sum(x * int(t) for x, t in zip([3600, 60, 1], start_time_nonvf44.split(':'))) * fs)\n",
    "end_nonvf_sample44 = int(sum(x * int(t) for x, t in zip([3600, 60, 1], end_time_nonvf44.split(':'))) * fs)\n",
    "\n",
    "\n",
    "vf_segment44 = ecg_signal44[start_vf_sample44:end_vf_sample44]\n",
    "vf_segment_c144 = ecg_signal44_c1[start_vf_sample44:end_vf_sample44]\n",
    "nonvf_segment44 = ecg_signal44[start_nonvf_sample44:end_nonvf_sample44]\n",
    "\n",
    "\n",
    "segment_duration = 10  # seconds\n",
    "segment_length = segment_duration * fs\n",
    "num_segments_vf44 = len(vf_segment44) // segment_length\n",
    "num_segment_vf_c144 = len(vf_segment_c144) // segment_length\n",
    "num_segments_nonvf44 = len(nonvf_segment44) // segment_length\n",
    "\n",
    "\n",
    "\n",
    "vf_segments44 = [vf_segment44[i * segment_length:(i + 1) * segment_length] for i in range(num_segments_vf44)]\n",
    "nonvf_segments44 = [nonvf_segment44[i * segment_length:(i + 1) * segment_length] for i in range(num_segments_nonvf44)]\n",
    "vf_segments_c144 = [vf_segment_c144[i * segment_length:(i + 1) * segment_length] for i in range(num_segment_vf_c144)]"
   ]
  },
  {
   "cell_type": "code",
   "execution_count": 18,
   "id": "2a30c84b",
   "metadata": {},
   "outputs": [],
   "source": [
    "record45 = wfdb.rdrecord('45', pn_dir='sddb')\n",
    "ecg_signal45 = record45.p_signal[:, 0]\n",
    "ecg_signal45_c1 = record45.p_signal[:, 1]\n",
    "\n",
    "start_time_vf45 = \"18:09:17\"\n",
    "end_time_vf45 = \"18:13:08\"\n",
    "start_time_nonvf45 = \"18:16:26\"\n",
    "end_time_nonvf45 = \"23:50:29\"\n",
    "\n",
    "\n",
    "start_vf_sample45 = int(sum(x * int(t) for x, t in zip([3600, 60, 1], start_time_vf45.split(':'))) * fs)\n",
    "end_vf_sample45 = int(sum(x * int(t) for x, t in zip([3600, 60, 1], end_time_vf45.split(':'))) * fs)\n",
    "start_nonvf_sample45 = int(sum(x * int(t) for x, t in zip([3600, 60, 1], start_time_nonvf45.split(':'))) * fs)\n",
    "end_nonvf_sample45 = int(sum(x * int(t) for x, t in zip([3600, 60, 1], end_time_nonvf45.split(':'))) * fs)\n",
    "\n",
    "\n",
    "vf_segment45 = ecg_signal45[start_vf_sample45:end_vf_sample45]\n",
    "vf_segment_c145 = ecg_signal45_c1[start_vf_sample45:end_vf_sample45]\n",
    "nonvf_segment45 = ecg_signal45[start_nonvf_sample45:end_nonvf_sample45]\n",
    "\n",
    "\n",
    "segment_duration = 10  # seconds\n",
    "segment_length = segment_duration * fs\n",
    "num_segments_vf45 = len(vf_segment45) // segment_length\n",
    "num_segment_vf_c145 = len(vf_segment_c145) // segment_length\n",
    "num_segments_nonvf45 = len(nonvf_segment45) // segment_length\n",
    "\n",
    "\n",
    "\n",
    "vf_segments45 = [vf_segment45[i * segment_length:(i + 1) * segment_length] for i in range(num_segments_vf45)]\n",
    "nonvf_segments45 = [nonvf_segment45[i * segment_length:(i + 1) * segment_length] for i in range(num_segments_nonvf45)]\n",
    "vf_segments_c145 = [vf_segment_c145[i * segment_length:(i + 1) * segment_length] for i in range(num_segment_vf_c145)]"
   ]
  },
  {
   "cell_type": "code",
   "execution_count": 19,
   "id": "3bbdb040",
   "metadata": {},
   "outputs": [],
   "source": [
    "record46 = wfdb.rdrecord('46', pn_dir='sddb')\n",
    "ecg_signal46 = record46.p_signal[:, 0]\n",
    "ecg_signal46_c1 = record46.p_signal[:, 1]\n",
    "\n",
    "start_time_vf46 = \"3:41:47\"\n",
    "end_time_vf46 = \"3:42:29\"\n",
    "start_time_nonvf46 = \"1:52:05\"\n",
    "end_time_nonvf46 = \"1:54:13\"\n",
    "\n",
    "\n",
    "start_vf_sample46 = int(sum(x * int(t) for x, t in zip([3600, 60, 1], start_time_vf46.split(':'))) * fs)\n",
    "end_vf_sample46 = int(sum(x * int(t) for x, t in zip([3600, 60, 1], end_time_vf46.split(':'))) * fs)\n",
    "start_nonvf_sample46 = int(sum(x * int(t) for x, t in zip([3600, 60, 1], start_time_nonvf46.split(':'))) * fs)\n",
    "end_nonvf_sample46 = int(sum(x * int(t) for x, t in zip([3600, 60, 1], end_time_nonvf46.split(':'))) * fs)\n",
    "\n",
    "\n",
    "vf_segment46 = ecg_signal46[start_vf_sample46:end_vf_sample46]\n",
    "vf_segment_c146 = ecg_signal46_c1[start_vf_sample46:end_vf_sample46]\n",
    "nonvf_segment46 = ecg_signal46[start_nonvf_sample46:end_nonvf_sample46]\n",
    "\n",
    "\n",
    "segment_duration = 10  # seconds\n",
    "segment_length = segment_duration * fs\n",
    "num_segments_vf46 = len(vf_segment46) // segment_length\n",
    "num_segment_vf_c146 = len(vf_segment_c146) // segment_length\n",
    "num_segments_nonvf46 = len(nonvf_segment46) // segment_length\n",
    "\n",
    "\n",
    "\n",
    "vf_segments46 = [vf_segment46[i * segment_length:(i + 1) * segment_length] for i in range(num_segments_vf46)]\n",
    "nonvf_segments46 = [nonvf_segment46[i * segment_length:(i + 1) * segment_length] for i in range(num_segments_nonvf46)]\n",
    "vf_segments_c146 = [vf_segment_c146[i * segment_length:(i + 1) * segment_length] for i in range(num_segment_vf_c146)]"
   ]
  },
  {
   "cell_type": "code",
   "execution_count": null,
   "id": "929b1972",
   "metadata": {},
   "outputs": [],
   "source": []
  },
  {
   "cell_type": "code",
   "execution_count": 20,
   "id": "f3bd2618",
   "metadata": {},
   "outputs": [],
   "source": [
    "record47 = wfdb.rdrecord('47', pn_dir='sddb')\n",
    "ecg_signal47 = record47.p_signal[:, 0]\n",
    "ecg_signal47_c1 = record47.p_signal[:, 1]\n",
    "\n",
    "start_time_vf47 = \"6:13:01\"\n",
    "end_time_vf47 = \"6:16:02\"\n",
    "\n",
    "\n",
    "\n",
    "start_vf_sample47 = int(sum(x * int(t) for x, t in zip([3600, 60, 1], start_time_vf47.split(':'))) * fs)\n",
    "end_vf_sample47 = int(sum(x * int(t) for x, t in zip([3600, 60, 1], end_time_vf47.split(':'))) * fs)\n",
    "\n",
    "\n",
    "vf_segment47 = ecg_signal47[start_vf_sample47:end_vf_sample47]\n",
    "vf_segment_c147 = ecg_signal47_c1[start_vf_sample47:end_vf_sample47]\n",
    "\n",
    "\n",
    "\n",
    "segment_duration = 10  # seconds\n",
    "segment_length = segment_duration * fs\n",
    "num_segments_vf47 = len(vf_segment47) // segment_length\n",
    "num_segment_vf_c147 = len(vf_segment_c147) // segment_length\n",
    "\n",
    "\n",
    "\n",
    "\n",
    "vf_segments47 = [vf_segment47[i * segment_length:(i + 1) * segment_length] for i in range(num_segments_vf47)]\n",
    "vf_segments_c147 = [vf_segment_c147[i * segment_length:(i + 1) * segment_length] for i in range(num_segment_vf_c147)]"
   ]
  },
  {
   "cell_type": "code",
   "execution_count": 21,
   "id": "84e50037",
   "metadata": {},
   "outputs": [],
   "source": [
    "record48 = wfdb.rdrecord('48', pn_dir='sddb')\n",
    "ecg_signal48 = record48.p_signal[:, 0]\n",
    "ecg_signal48_c1 = record48.p_signal[:, 1]\n",
    "\n",
    "start_time_vf48 = \"2:29:40\"\n",
    "end_time_vf48 = \"6:59:25\"\n",
    "start_time_nonvf48 = \"7:14:27\"\n",
    "end_time_nonvf48 = \"7:44:54\"\n",
    "\n",
    "\n",
    "start_vf_sample48 = int(sum(x * int(t) for x, t in zip([3600, 60, 1], start_time_vf48.split(':'))) * fs)\n",
    "end_vf_sample48 = int(sum(x * int(t) for x, t in zip([3600, 60, 1], end_time_vf48.split(':'))) * fs)\n",
    "start_nonvf_sample48 = int(sum(x * int(t) for x, t in zip([3600, 60, 1], start_time_nonvf48.split(':'))) * fs)\n",
    "end_nonvf_sample48 = int(sum(x * int(t) for x, t in zip([3600, 60, 1], end_time_nonvf48.split(':'))) * fs)\n",
    "\n",
    "\n",
    "vf_segment48 = ecg_signal48[start_vf_sample48:end_vf_sample48]\n",
    "vf_segment_c148 = ecg_signal48_c1[start_vf_sample48:end_vf_sample48]\n",
    "nonvf_segment48 = ecg_signal48[start_nonvf_sample48:end_nonvf_sample48]\n",
    "\n",
    "\n",
    "segment_duration = 10  # seconds\n",
    "segment_length = segment_duration * fs\n",
    "num_segments_vf48 = len(vf_segment48) // segment_length\n",
    "num_segment_vf_c148 = len(vf_segment_c148) // segment_length\n",
    "num_segments_nonvf48 = len(nonvf_segment48) // segment_length\n",
    "\n",
    "\n",
    "\n",
    "vf_segments48 = [vf_segment48[i * segment_length:(i + 1) * segment_length] for i in range(num_segments_vf48)]\n",
    "nonvf_segments48 = [nonvf_segment48[i * segment_length:(i + 1) * segment_length] for i in range(num_segments_nonvf48)]\n",
    "vf_segments_c148 = [vf_segment_c148[i * segment_length:(i + 1) * segment_length] for i in range(num_segment_vf_c148)]"
   ]
  },
  {
   "cell_type": "code",
   "execution_count": 22,
   "id": "2025249a",
   "metadata": {},
   "outputs": [],
   "source": [
    "record50 = wfdb.rdrecord('50', pn_dir='sddb')\n",
    "ecg_signal50 = record50.p_signal[:, 0]\n",
    "ecg_signal50_c1 = record50.p_signal[:, 1]\n",
    "\n",
    "start_time_vf50 = \"11:45:43\"\n",
    "end_time_vf50 = \"11:46:25\"\n",
    "start_time_nonvf50 = \"9:12:08\"\n",
    "end_time_nonvf50 = \"9:26:16\"\n",
    "\n",
    "\n",
    "start_vf_sample50 = int(sum(x * int(t) for x, t in zip([3600, 60, 1], start_time_vf50.split(':'))) * fs)\n",
    "end_vf_sample50 = int(sum(x * int(t) for x, t in zip([3600, 60, 1], end_time_vf50.split(':'))) * fs)\n",
    "start_nonvf_sample50 = int(sum(x * int(t) for x, t in zip([3600, 60, 1], start_time_nonvf50.split(':'))) * fs)\n",
    "end_nonvf_sample50 = int(sum(x * int(t) for x, t in zip([3600, 60, 1], end_time_nonvf50.split(':'))) * fs)\n",
    "\n",
    "\n",
    "vf_segment50 = ecg_signal50[start_vf_sample50:end_vf_sample50]\n",
    "vf_segment_c150 = ecg_signal50_c1[start_vf_sample50:end_vf_sample50]\n",
    "nonvf_segment50 = ecg_signal50[start_nonvf_sample50:end_nonvf_sample50]\n",
    "\n",
    "\n",
    "segment_duration = 10  # seconds\n",
    "segment_length = segment_duration * fs\n",
    "num_segments_vf50 = len(vf_segment50) // segment_length\n",
    "num_segment_vf_c150 = len(vf_segment_c150) // segment_length\n",
    "num_segments_nonvf50 = len(nonvf_segment50) // segment_length\n",
    "\n",
    "\n",
    "\n",
    "vf_segments50 = [vf_segment50[i * segment_length:(i + 1) * segment_length] for i in range(num_segments_vf50)]\n",
    "nonvf_segments50 = [nonvf_segment50[i * segment_length:(i + 1) * segment_length] for i in range(num_segments_nonvf50)]\n",
    "vf_segments_c150 = [vf_segment_c150[i * segment_length:(i + 1) * segment_length] for i in range(num_segment_vf_c150)]"
   ]
  },
  {
   "cell_type": "code",
   "execution_count": 23,
   "id": "e84ea75e",
   "metadata": {},
   "outputs": [],
   "source": [
    "record51 = wfdb.rdrecord('51', pn_dir='sddb')\n",
    "ecg_signal51 = record51.p_signal[:, 0]\n",
    "ecg_signal51_c1 = record51.p_signal[:, 1]\n",
    "\n",
    "start_time_vf51 = \"22:58:23\"\n",
    "end_time_vf51 = \"25:08:30\"\n",
    "\n",
    "\n",
    "start_vf_sample51 = int(sum(x * int(t) for x, t in zip([3600, 60, 1], start_time_vf51.split(':'))) * fs)\n",
    "end_vf_sample51 = int(sum(x * int(t) for x, t in zip([3600, 60, 1], end_time_vf51.split(':'))) * fs)\n",
    "\n",
    "\n",
    "\n",
    "vf_segment51 = ecg_signal51[start_vf_sample51:end_vf_sample51]\n",
    "vf_segment_c151 = ecg_signal51_c1[start_vf_sample51:end_vf_sample51]\n",
    "\n",
    "\n",
    "segment_duration = 10  # seconds\n",
    "segment_length = segment_duration * fs\n",
    "num_segments_vf51 = len(vf_segment51) // segment_length\n",
    "num_segment_vf_c151 = len(vf_segment_c151) // segment_length\n",
    "\n",
    "\n",
    "\n",
    "\n",
    "vf_segments51 = [vf_segment51[i * segment_length:(i + 1) * segment_length] for i in range(num_segments_vf51)]\n",
    "vf_segments_c151 = [vf_segment_c151[i * segment_length:(i + 1) * segment_length] for i in range(num_segment_vf_c151)]"
   ]
  },
  {
   "cell_type": "code",
   "execution_count": 24,
   "id": "8c9af584",
   "metadata": {},
   "outputs": [],
   "source": [
    "record52 = wfdb.rdrecord('52', pn_dir='sddb')\n",
    "ecg_signal52 = record52.p_signal[:, 0]\n",
    "ecg_signal52_c1 = record52.p_signal[:, 1]\n",
    "\n",
    "start_time_vf52 = \"2:32:40\"\n",
    "end_time_vf52 = \"2:37:56\"\n",
    "start_time_nonvf52 = \"0:37:09\"\n",
    "end_time_nonvf52 = \"1:16:33\"\n",
    "\n",
    "\n",
    "start_vf_sample52 = int(sum(x * int(t) for x, t in zip([3600, 60, 1], start_time_vf52.split(':'))) * fs)\n",
    "end_vf_sample52 = int(sum(x * int(t) for x, t in zip([3600, 60, 1], end_time_vf52.split(':'))) * fs)\n",
    "start_nonvf_sample52 = int(sum(x * int(t) for x, t in zip([3600, 60, 1], start_time_nonvf52.split(':'))) * fs)\n",
    "end_nonvf_sample52 = int(sum(x * int(t) for x, t in zip([3600, 60, 1], end_time_nonvf52.split(':'))) * fs)\n",
    "\n",
    "\n",
    "vf_segment52 = ecg_signal52[start_vf_sample52:end_vf_sample52]\n",
    "vf_segment_c152 = ecg_signal52_c1[start_vf_sample52:end_vf_sample52]\n",
    "nonvf_segment52 = ecg_signal52[start_nonvf_sample52:end_nonvf_sample52]\n",
    "\n",
    "\n",
    "segment_duration = 10  # seconds\n",
    "segment_length = segment_duration * fs\n",
    "num_segments_vf52 = len(vf_segment52) // segment_length\n",
    "num_segment_vf_c152 = len(vf_segment_c152) // segment_length\n",
    "num_segments_nonvf52 = len(nonvf_segment52) // segment_length\n",
    "\n",
    "\n",
    "\n",
    "vf_segments52 = [vf_segment52[i * segment_length:(i + 1) * segment_length] for i in range(num_segments_vf52)]\n",
    "nonvf_segments52 = [nonvf_segment52[i * segment_length:(i + 1) * segment_length] for i in range(num_segments_nonvf52)]\n",
    "vf_segments_c152 = [vf_segment_c152[i * segment_length:(i + 1) * segment_length] for i in range(num_segment_vf_c152)]"
   ]
  },
  {
   "cell_type": "code",
   "execution_count": 25,
   "id": "cfab059e",
   "metadata": {},
   "outputs": [],
   "source": [
    "vf_segments = [array for sublist in [vf_segments30, vf_segments31,vf_segments32,vf_segments33,vf_segments34, vf_segments35,vf_segments36,vf_segments37, vf_segments38, vf_segments39,vf_segments41, vf_segments43,vf_segments44, vf_segments45, vf_segments46, vf_segments47, vf_segments48, vf_segments50,vf_segments51,vf_segments52] for array in sublist]"
   ]
  },
  {
   "cell_type": "code",
   "execution_count": 26,
   "id": "9b6d9a82",
   "metadata": {},
   "outputs": [],
   "source": [
    "norm_segments = [array for sublist in [nonvf_segments30, nonvf_segments31,nonvf_segments32,nonvf_segments33,nonvf_segments34,nonvf_segments36,nonvf_segments37, nonvf_segments38, nonvf_segments39,nonvf_segments41, nonvf_segments43,nonvf_segments44, nonvf_segments45, nonvf_segments46, nonvf_segments48, nonvf_segments50,nonvf_segments52] for array in sublist]"
   ]
  },
  {
   "cell_type": "code",
   "execution_count": 27,
   "id": "28c70d14",
   "metadata": {},
   "outputs": [],
   "source": [
    "vf_segments_c1 = [array for sublist in [vf_segments_c130, vf_segments_c131,vf_segments_c132,vf_segments_c133,vf_segments_c134, vf_segments_c135,vf_segments_c136,vf_segments_c137, vf_segments_c138, vf_segments_c139,vf_segments_c141, vf_segments_c143,vf_segments_c144, vf_segments_c145, vf_segments_c146, vf_segments_c147, vf_segments_c148, vf_segments_c150,vf_segments_c151,vf_segments_c152] for array in sublist]"
   ]
  },
  {
   "cell_type": "markdown",
   "id": "11a9dd3e",
   "metadata": {},
   "source": [
    "# Data Processing"
   ]
  },
  {
   "cell_type": "code",
   "execution_count": 28,
   "id": "f6d27e23",
   "metadata": {},
   "outputs": [
    {
     "name": "stdout",
     "output_type": "stream",
     "text": [
      "New shape of the first ECG signal: (2500, 1)\n"
     ]
    }
   ],
   "source": [
    "vf_0 = [ecg.reshape(2500, 1) for ecg in vf_segments]\n",
    "print(\"New shape of the first ECG signal:\", vf_0[3341].shape)  # Output: (2500, 1)"
   ]
  },
  {
   "cell_type": "code",
   "execution_count": 29,
   "id": "7d5f332a",
   "metadata": {},
   "outputs": [
    {
     "name": "stdout",
     "output_type": "stream",
     "text": [
      "New shape of the first ECG signal: (2500, 1)\n"
     ]
    }
   ],
   "source": [
    "vf_1 = [ecg.reshape(2500, 1) for ecg in vf_segments_c1]\n",
    "print(\"New shape of the first ECG signal:\", vf_1[3341].shape)  # Output: (2500, 1)"
   ]
  },
  {
   "cell_type": "code",
   "execution_count": 30,
   "id": "c1cafe7f",
   "metadata": {},
   "outputs": [
    {
     "name": "stdout",
     "output_type": "stream",
     "text": [
      "New shape of the first ECG signal: (2500, 1)\n"
     ]
    }
   ],
   "source": [
    "norm = [ecg.reshape(2500, 1) for ecg in norm_segments]\n",
    "print(\"New shape of the first ECG signal:\", norm[3341].shape)  # Output: (2500, 1)"
   ]
  },
  {
   "cell_type": "code",
   "execution_count": null,
   "id": "081a0382",
   "metadata": {},
   "outputs": [],
   "source": []
  },
  {
   "cell_type": "code",
   "execution_count": 31,
   "id": "017fc4e5",
   "metadata": {
    "scrolled": true
   },
   "outputs": [],
   "source": [
    "newnor = []\n",
    "for arr in norm:\n",
    "    transposed = np.reshape(arr,-1)\n",
    "    newnor.append(transposed)"
   ]
  },
  {
   "cell_type": "code",
   "execution_count": 32,
   "id": "46f4ba29",
   "metadata": {},
   "outputs": [],
   "source": [
    "newvf_0 = []\n",
    "for arr in vf_0:\n",
    "    transposed = np.reshape(arr,-1)\n",
    "    newvf_0.append(transposed)"
   ]
  },
  {
   "cell_type": "code",
   "execution_count": 33,
   "id": "56554f71",
   "metadata": {},
   "outputs": [],
   "source": [
    "newvf_1 = []\n",
    "for arr in vf_1:\n",
    "    transposed = np.reshape(arr,-1 )\n",
    "    newvf_1.append(transposed)"
   ]
  },
  {
   "cell_type": "code",
   "execution_count": 34,
   "id": "9790962c",
   "metadata": {},
   "outputs": [],
   "source": [
    "concvf = newvf_1 + newvf_0"
   ]
  },
  {
   "cell_type": "code",
   "execution_count": 35,
   "id": "2e4feb3f",
   "metadata": {},
   "outputs": [],
   "source": [
    "new_vf_df = pd.DataFrame(concvf)"
   ]
  },
  {
   "cell_type": "code",
   "execution_count": 36,
   "id": "6b473c0c",
   "metadata": {},
   "outputs": [],
   "source": [
    "new_norm_df = pd.DataFrame(newnor)"
   ]
  },
  {
   "cell_type": "code",
   "execution_count": 37,
   "id": "feac678d",
   "metadata": {},
   "outputs": [],
   "source": [
    "#new_norm_df[new_norm_df.isna().any(axis=1)]"
   ]
  },
  {
   "cell_type": "code",
   "execution_count": 38,
   "id": "ce205aa7",
   "metadata": {
    "scrolled": true
   },
   "outputs": [],
   "source": [
    "new_vf_df['label'] = 1"
   ]
  },
  {
   "cell_type": "code",
   "execution_count": 39,
   "id": "762a37cd",
   "metadata": {},
   "outputs": [],
   "source": [
    "new_norm_df['label'] = 0"
   ]
  },
  {
   "cell_type": "code",
   "execution_count": 40,
   "id": "e5762aa7",
   "metadata": {},
   "outputs": [],
   "source": [
    "#new_norm_df"
   ]
  },
  {
   "cell_type": "code",
   "execution_count": 41,
   "id": "5683fddf",
   "metadata": {},
   "outputs": [],
   "source": [
    "dataset = pd.concat([new_vf_df,new_norm_df]).reset_index()\n",
    "dataset.drop(['index'], axis = 1,inplace = True)"
   ]
  },
  {
   "cell_type": "markdown",
   "id": "34035b9d",
   "metadata": {
    "scrolled": true
   },
   "source": [
    "dataset"
   ]
  },
  {
   "cell_type": "code",
   "execution_count": 42,
   "id": "e9116640",
   "metadata": {},
   "outputs": [],
   "source": [
    "dataset.dropna(inplace = True)"
   ]
  },
  {
   "cell_type": "code",
   "execution_count": 43,
   "id": "38494b57",
   "metadata": {},
   "outputs": [],
   "source": [
    "Y_input = dataset['label'].to_numpy()\n",
    "inputcolumn = dataset.loc[:,~dataset.columns.isin(['label'])]\n",
    "X_input=inputcolumn.to_numpy()\n"
   ]
  },
  {
   "cell_type": "code",
   "execution_count": 44,
   "id": "0dcbab95",
   "metadata": {},
   "outputs": [],
   "source": [
    "X_input = X_input.reshape(-1,2500,1)\n",
    "Y_input = Y_input.reshape(-1,1)\n"
   ]
  },
  {
   "cell_type": "code",
   "execution_count": 45,
   "id": "f03a093f",
   "metadata": {},
   "outputs": [],
   "source": [
    "input_mean = np.mean(X_input)\n",
    "input_std = np.std(X_input)\n",
    "#X_input"
   ]
  },
  {
   "cell_type": "code",
   "execution_count": 46,
   "id": "d3f156df",
   "metadata": {},
   "outputs": [],
   "source": [
    "X_input = (X_input-input_mean)/input_std"
   ]
  },
  {
   "cell_type": "code",
   "execution_count": 47,
   "id": "cc86c581",
   "metadata": {},
   "outputs": [],
   "source": [
    "x_train, x_test, y_train, y_test = train_test_split(X_input, Y_input, test_size = 0.2, stratify = Y_input)"
   ]
  },
  {
   "cell_type": "code",
   "execution_count": 48,
   "id": "e25297c9",
   "metadata": {},
   "outputs": [],
   "source": [
    "x_train, x_val, y_train, y_val = train_test_split(x_train, y_train, test_size = 0.15, stratify = y_train)"
   ]
  },
  {
   "cell_type": "markdown",
   "id": "a0c42bbd",
   "metadata": {},
   "source": [
    "# Model"
   ]
  },
  {
   "cell_type": "code",
   "execution_count": 78,
   "id": "1cc92de3",
   "metadata": {
    "scrolled": false
   },
   "outputs": [
    {
     "name": "stdout",
     "output_type": "stream",
     "text": [
      "Model: \"model_1\"\n",
      "__________________________________________________________________________________________________\n",
      " Layer (type)                   Output Shape         Param #     Connected to                     \n",
      "==================================================================================================\n",
      " input_2 (InputLayer)           [(None, 2500, 1)]    0           []                               \n",
      "                                                                                                  \n",
      " conv1d_6 (Conv1D)              (None, 2500, 32)     544         ['input_2[0][0]']                \n",
      "                                                                                                  \n",
      " max_pooling1d_6 (MaxPooling1D)  (None, 1250, 32)    0           ['conv1d_6[0][0]']               \n",
      "                                                                                                  \n",
      " conv1d_7 (Conv1D)              (None, 1250, 32)     16416       ['max_pooling1d_6[0][0]']        \n",
      "                                                                                                  \n",
      " batch_normalization_3 (BatchNo  (None, 1250, 32)    128         ['conv1d_7[0][0]']               \n",
      " rmalization)                                                                                     \n",
      "                                                                                                  \n",
      " max_pooling1d_7 (MaxPooling1D)  (None, 625, 32)     0           ['batch_normalization_3[0][0]']  \n",
      "                                                                                                  \n",
      " conv1d_8 (Conv1D)              (None, 625, 64)      32832       ['max_pooling1d_7[0][0]']        \n",
      "                                                                                                  \n",
      " max_pooling1d_8 (MaxPooling1D)  (None, 312, 64)     0           ['conv1d_8[0][0]']               \n",
      "                                                                                                  \n",
      " conv1d_9 (Conv1D)              (None, 312, 64)      65600       ['max_pooling1d_8[0][0]']        \n",
      "                                                                                                  \n",
      " batch_normalization_4 (BatchNo  (None, 312, 64)     256         ['conv1d_9[0][0]']               \n",
      " rmalization)                                                                                     \n",
      "                                                                                                  \n",
      " max_pooling1d_9 (MaxPooling1D)  (None, 156, 64)     0           ['batch_normalization_4[0][0]']  \n",
      "                                                                                                  \n",
      " conv1d_10 (Conv1D)             (None, 156, 128)     131200      ['max_pooling1d_9[0][0]']        \n",
      "                                                                                                  \n",
      " max_pooling1d_10 (MaxPooling1D  (None, 78, 128)     0           ['conv1d_10[0][0]']              \n",
      " )                                                                                                \n",
      "                                                                                                  \n",
      " conv1d_11 (Conv1D)             (None, 78, 128)      262272      ['max_pooling1d_10[0][0]']       \n",
      "                                                                                                  \n",
      " batch_normalization_5 (BatchNo  (None, 78, 128)     512         ['conv1d_11[0][0]']              \n",
      " rmalization)                                                                                     \n",
      "                                                                                                  \n",
      " max_pooling1d_11 (MaxPooling1D  (None, 39, 128)     0           ['batch_normalization_5[0][0]']  \n",
      " )                                                                                                \n",
      "                                                                                                  \n",
      " multi_head_attention_1 (MultiH  (None, 39, 128)     66048       ['max_pooling1d_11[0][0]',       \n",
      " eadAttention)                                                    'max_pooling1d_11[0][0]']       \n",
      "                                                                                                  \n",
      " global_average_pooling1d_1 (Gl  (None, 128)         0           ['multi_head_attention_1[0][0]'] \n",
      " obalAveragePooling1D)                                                                            \n",
      "                                                                                                  \n",
      " flatten_1 (Flatten)            (None, 128)          0           ['global_average_pooling1d_1[0][0\n",
      "                                                                 ]']                              \n",
      "                                                                                                  \n",
      " dense_5 (Dense)                (None, 256)          33024       ['flatten_1[0][0]']              \n",
      "                                                                                                  \n",
      " dense_7 (Dense)                (None, 64)           16448       ['dense_5[0][0]']                \n",
      "                                                                                                  \n",
      " dense_8 (Dense)                (None, 32)           2080        ['dense_7[0][0]']                \n",
      "                                                                                                  \n",
      " dense_9 (Dense)                (None, 1)            33          ['dense_8[0][0]']                \n",
      "                                                                                                  \n",
      "==================================================================================================\n",
      "Total params: 627,393\n",
      "Trainable params: 626,945\n",
      "Non-trainable params: 448\n",
      "__________________________________________________________________________________________________\n"
     ]
    }
   ],
   "source": [
    "import tensorflow as tf\n",
    "from tensorflow.keras import layers, models\n",
    "\n",
    "\n",
    "num_features = len(dataset.columns) - 1  # Subtract 1 to exclude the 'label' column\n",
    "\n",
    "# Define the 1D CNN-Transformer hybrid model architecture\n",
    "def create_cnn_transformer_model(input_shape):\n",
    "    inputs = layers.Input(shape=input_shape)\n",
    "\n",
    "    # 1D CNN layers\n",
    "    cnn = layers.Conv1D(filters=32,kernel_size=16, padding='same', activation='relu')(inputs)\n",
    "    cnn = layers.MaxPooling1D(pool_size=2)(cnn)\n",
    "    cnn = layers.Conv1D(filters=32,kernel_size=16, padding='same', activation='relu')(cnn)\n",
    "    cnn = layers.BatchNormalization()(cnn)\n",
    "    cnn = layers.MaxPooling1D(pool_size=2)(cnn)\n",
    "    cnn = layers.Conv1D(filters=64, kernel_size=16, padding='same', activation='relu')(cnn)\n",
    "    cnn = layers.MaxPooling1D(pool_size=2)(cnn)\n",
    "    cnn = layers.Conv1D(filters=64,kernel_size=16,padding='same', activation='relu')(cnn)\n",
    "    cnn = layers.BatchNormalization()(cnn)\n",
    "    cnn = layers.MaxPooling1D(pool_size=2)(cnn)\n",
    "    cnn = layers.Conv1D(filters=128, kernel_size=16,padding='same', activation='relu')(cnn)\n",
    "    cnn = layers.MaxPooling1D(pool_size=2)(cnn)\n",
    "    cnn = layers.Conv1D(filters=128, kernel_size=16,padding='same', activation='relu')(cnn)\n",
    "    cnn = layers.BatchNormalization()(cnn)\n",
    "    cnn = layers.MaxPooling1D(pool_size=2)(cnn)\n",
    "\n",
    "    # Transformer layer\n",
    "    transformer = layers.MultiHeadAttention(num_heads=2, key_dim=64)(cnn, cnn)\n",
    "    transformer = layers.GlobalAveragePooling1D()(transformer)\n",
    "    \n",
    "    flatten = layers.Flatten()(transformer)\n",
    "\n",
    "    # Dense layers\n",
    "    dense = layers.Dense(256, activation='relu')(flatten)\n",
    "   #dense = layers.Dropout(0.3)(dense)\n",
    "    ense = layers.Dense(128, activation='relu')(dense)\n",
    "   #dense = layers.Dropout(0.2)(dense)\n",
    "    dense = layers.Dense(64, activation='relu')(dense)\n",
    "   #dense = layers.Dropout(0.1)(dense)\n",
    "    dense = layers.Dense(32, activation='relu')(dense)\n",
    "    \n",
    "    # Output layer\n",
    "    output = layers.Dense(1, activation='sigmoid')(dense)\n",
    "\n",
    "    # Create the model\n",
    "    model = models.Model(inputs=inputs, outputs=output)\n",
    "    \n",
    "    return model\n",
    "\n",
    "# Instantiate the model\n",
    "input_shape = (num_features,1)\n",
    "cnn_transformer_model = create_cnn_transformer_model(input_shape)\n",
    "\n",
    "# Compile the model\n",
    "learning_rate = 0.0001\n",
    "cnn_transformer_model.compile(optimizer='adam', loss='binary_crossentropy', metrics=['accuracy'])\n",
    "early_stopping = EarlyStopping(patience=5, restore_best_weights=True)\n",
    "\n",
    "\n",
    "# Print the model summary\n",
    "cnn_transformer_model.summary()\n",
    "\n"
   ]
  },
  {
   "cell_type": "code",
   "execution_count": 79,
   "id": "3aa2122e",
   "metadata": {
    "scrolled": false
   },
   "outputs": [
    {
     "name": "stdout",
     "output_type": "stream",
     "text": [
      "Epoch 1/150\n",
      "182/182 [==============================] - 42s 225ms/step - loss: 0.1595 - accuracy: 0.9394 - val_loss: 0.3029 - val_accuracy: 0.8755\n",
      "Epoch 2/150\n",
      "182/182 [==============================] - 40s 219ms/step - loss: 0.0786 - accuracy: 0.9725 - val_loss: 0.1366 - val_accuracy: 0.9481\n",
      "Epoch 3/150\n",
      "182/182 [==============================] - 45s 248ms/step - loss: 0.0617 - accuracy: 0.9778 - val_loss: 0.0621 - val_accuracy: 0.9787\n",
      "Epoch 4/150\n",
      "182/182 [==============================] - 46s 255ms/step - loss: 0.0545 - accuracy: 0.9790 - val_loss: 0.1282 - val_accuracy: 0.9393\n",
      "Epoch 5/150\n",
      "182/182 [==============================] - 51s 280ms/step - loss: 0.0494 - accuracy: 0.9829 - val_loss: 0.0857 - val_accuracy: 0.9644\n",
      "Epoch 6/150\n",
      "182/182 [==============================] - 41s 224ms/step - loss: 0.0551 - accuracy: 0.9793 - val_loss: 0.0839 - val_accuracy: 0.9662\n",
      "Epoch 7/150\n",
      "182/182 [==============================] - 41s 224ms/step - loss: 0.0557 - accuracy: 0.9776 - val_loss: 0.0654 - val_accuracy: 0.9712\n",
      "Epoch 8/150\n",
      "182/182 [==============================] - 41s 227ms/step - loss: 0.0432 - accuracy: 0.9844 - val_loss: 0.0467 - val_accuracy: 0.9831\n",
      "Epoch 9/150\n",
      "182/182 [==============================] - 41s 224ms/step - loss: 0.0298 - accuracy: 0.9885 - val_loss: 0.0554 - val_accuracy: 0.9656\n",
      "Epoch 10/150\n",
      "182/182 [==============================] - 42s 233ms/step - loss: 0.0256 - accuracy: 0.9898 - val_loss: 0.0408 - val_accuracy: 0.9775\n",
      "Epoch 11/150\n",
      "182/182 [==============================] - 49s 269ms/step - loss: 0.0259 - accuracy: 0.9897 - val_loss: 0.0163 - val_accuracy: 0.9919\n",
      "Epoch 12/150\n",
      "182/182 [==============================] - 49s 271ms/step - loss: 0.0187 - accuracy: 0.9928 - val_loss: 0.2029 - val_accuracy: 0.9787\n",
      "Epoch 13/150\n",
      "182/182 [==============================] - 50s 276ms/step - loss: 0.0236 - accuracy: 0.9915 - val_loss: 0.0656 - val_accuracy: 0.9812\n",
      "Epoch 14/150\n",
      "182/182 [==============================] - 49s 268ms/step - loss: 0.0216 - accuracy: 0.9927 - val_loss: 0.0276 - val_accuracy: 0.9900\n",
      "Epoch 15/150\n",
      "182/182 [==============================] - 47s 258ms/step - loss: 0.0197 - accuracy: 0.9936 - val_loss: 0.0518 - val_accuracy: 0.9825\n",
      "Epoch 16/150\n",
      "182/182 [==============================] - 45s 245ms/step - loss: 0.0101 - accuracy: 0.9957 - val_loss: 0.0140 - val_accuracy: 0.9950\n",
      "Epoch 17/150\n",
      "182/182 [==============================] - 47s 259ms/step - loss: 0.0192 - accuracy: 0.9934 - val_loss: 0.0663 - val_accuracy: 0.9831\n",
      "Epoch 18/150\n",
      "182/182 [==============================] - 44s 242ms/step - loss: 0.0233 - accuracy: 0.9927 - val_loss: 0.0678 - val_accuracy: 0.9687\n",
      "Epoch 19/150\n",
      "182/182 [==============================] - 46s 253ms/step - loss: 0.0256 - accuracy: 0.9917 - val_loss: 0.0140 - val_accuracy: 0.9969\n",
      "Epoch 20/150\n",
      "182/182 [==============================] - 50s 276ms/step - loss: 0.0133 - accuracy: 0.9956 - val_loss: 0.0277 - val_accuracy: 0.9937\n",
      "Epoch 21/150\n",
      "182/182 [==============================] - 44s 242ms/step - loss: 0.0176 - accuracy: 0.9940 - val_loss: 0.0137 - val_accuracy: 0.9962\n",
      "Epoch 22/150\n",
      "182/182 [==============================] - 45s 245ms/step - loss: 0.0342 - accuracy: 0.9910 - val_loss: 0.0842 - val_accuracy: 0.9731\n",
      "Epoch 23/150\n",
      "182/182 [==============================] - 45s 245ms/step - loss: 0.0166 - accuracy: 0.9939 - val_loss: 0.0650 - val_accuracy: 0.9694\n",
      "Epoch 24/150\n",
      "182/182 [==============================] - 45s 246ms/step - loss: 0.0170 - accuracy: 0.9946 - val_loss: 0.0222 - val_accuracy: 0.9919\n",
      "Epoch 25/150\n",
      "182/182 [==============================] - 43s 238ms/step - loss: 0.0059 - accuracy: 0.9977 - val_loss: 0.0146 - val_accuracy: 0.9975\n",
      "Epoch 26/150\n",
      "182/182 [==============================] - 45s 247ms/step - loss: 0.0119 - accuracy: 0.9967 - val_loss: 0.0091 - val_accuracy: 0.9981\n",
      "Epoch 27/150\n",
      "182/182 [==============================] - 45s 247ms/step - loss: 0.0120 - accuracy: 0.9961 - val_loss: 0.0313 - val_accuracy: 0.9887\n",
      "Epoch 28/150\n",
      "182/182 [==============================] - 45s 247ms/step - loss: 0.0149 - accuracy: 0.9950 - val_loss: 0.0133 - val_accuracy: 0.9969\n",
      "Epoch 29/150\n",
      "182/182 [==============================] - 45s 246ms/step - loss: 0.0079 - accuracy: 0.9976 - val_loss: 0.0109 - val_accuracy: 0.9987\n",
      "Epoch 30/150\n",
      "182/182 [==============================] - 43s 238ms/step - loss: 0.0053 - accuracy: 0.9979 - val_loss: 0.0129 - val_accuracy: 0.9981\n",
      "Epoch 31/150\n",
      "182/182 [==============================] - 45s 247ms/step - loss: 0.0055 - accuracy: 0.9980 - val_loss: 0.0131 - val_accuracy: 0.9981\n"
     ]
    }
   ],
   "source": [
    "# Reshape the input features as necessary for the 1D CNN (batch_size, num_features, num_channels)\n",
    "#X_train = X_train.reshape((X_train.shape[0], X_train.shape[1], 1))\n",
    "#X_validation = X_validation.reshape((X_validation.shape[0], X_validation.shape[1], 1))\n",
    "\n",
    "# Train the model using the fit() method\n",
    "batch_size = 50\n",
    "epochs = 150\n",
    "\n",
    "history = cnn_transformer_model.fit(x_train, y_train, batch_size=batch_size, epochs=epochs,\n",
    "                                    validation_data=(x_val, y_val),callbacks=[early_stopping])"
   ]
  },
  {
   "cell_type": "code",
   "execution_count": 81,
   "id": "af4d3c54",
   "metadata": {},
   "outputs": [],
   "source": [
    "cnn_transformer_model.save('cnn_transformerbest.h5')"
   ]
  },
  {
   "cell_type": "markdown",
   "id": "39a105ad",
   "metadata": {},
   "source": [
    "# Evaluation"
   ]
  },
  {
   "cell_type": "code",
   "execution_count": 82,
   "id": "0b236073",
   "metadata": {},
   "outputs": [
    {
     "name": "stdout",
     "output_type": "stream",
     "text": [
      "84/84 [==============================] - 6s 71ms/step - loss: 0.0215 - accuracy: 0.9951\n"
     ]
    },
    {
     "data": {
      "text/plain": [
       "[0.021450594067573547, 0.995121955871582]"
      ]
     },
     "execution_count": 82,
     "metadata": {},
     "output_type": "execute_result"
    }
   ],
   "source": [
    "cnn_transformer_model.evaluate(x_test,y_test)"
   ]
  },
  {
   "cell_type": "code",
   "execution_count": 83,
   "id": "4e53f5f6",
   "metadata": {},
   "outputs": [
    {
     "name": "stdout",
     "output_type": "stream",
     "text": [
      "84/84 [==============================] - 5s 63ms/step\n"
     ]
    }
   ],
   "source": [
    "y_predict = cnn_transformer_model.predict(x_test)"
   ]
  },
  {
   "cell_type": "code",
   "execution_count": 84,
   "id": "2811daa7",
   "metadata": {},
   "outputs": [],
   "source": [
    "y_predict_label = tf.greater(y_predict,0.5)"
   ]
  },
  {
   "cell_type": "code",
   "execution_count": 85,
   "id": "279012a4",
   "metadata": {},
   "outputs": [],
   "source": [
    "acc = history.history['accuracy']\n",
    "loss = history.history['loss']\n",
    "val_acc = history.history['val_accuracy']\n",
    "val_loss = history.history['val_loss']"
   ]
  },
  {
   "cell_type": "code",
   "execution_count": 86,
   "id": "01e2b59d",
   "metadata": {},
   "outputs": [
    {
     "data": {
      "image/png": "[encoded data removed]",
      "text/plain": [
       "<Figure size 640x480 with 1 Axes>"
      ]
     },
     "metadata": {},
     "output_type": "display_data"
    },
    {
     "data": {
      "image/png": "[encoded data removed]",
      "text/plain": [
       "<Figure size 640x480 with 1 Axes>"
      ]
     },
     "metadata": {},
     "output_type": "display_data"
    }
   ],
   "source": [
    "epochs = range(1, len(acc) + 1)\n",
    "\n",
    "plt.plot(epochs, acc, 'bo', label='Training acc')\n",
    "plt.plot(epochs, val_acc, 'b', label='Validation acc')\n",
    "plt.title('Training and validation accuracy')\n",
    "plt.legend()\n",
    "\n",
    "plt.figure()\n",
    "\n",
    "plt.plot(epochs, loss, 'bo', label='Training loss')\n",
    "plt.plot(epochs, val_loss, 'b', label='Validation loss')\n",
    "plt.title('Training and validation loss')\n",
    "plt.legend()\n",
    "\n",
    "plt.show()"
   ]
  },
  {
   "cell_type": "code",
   "execution_count": 87,
   "id": "8b9fc3de",
   "metadata": {},
   "outputs": [
    {
     "name": "stdout",
     "output_type": "stream",
     "text": [
      "              precision    recall  f1-score   support\n",
      "\n",
      "           0       0.99      1.00      1.00      1332\n",
      "           1       1.00      0.99      1.00      1333\n",
      "\n",
      "    accuracy                           1.00      2665\n",
      "   macro avg       1.00      1.00      1.00      2665\n",
      "weighted avg       1.00      1.00      1.00      2665\n",
      "\n"
     ]
    }
   ],
   "source": [
    "from sklearn.metrics import classification_report,confusion_matrix,ConfusionMatrixDisplay\n",
    "print(classification_report(y_test, y_predict_label))"
   ]
  },
  {
   "cell_type": "code",
   "execution_count": 88,
   "id": "b0769b3e",
   "metadata": {
    "scrolled": true
   },
   "outputs": [
    {
     "data": {
      "text/plain": [
       "<sklearn.metrics._plot.confusion_matrix.ConfusionMatrixDisplay at 0x16a7b04d5b0>"
      ]
     },
     "execution_count": 88,
     "metadata": {},
     "output_type": "execute_result"
    },
    {
     "data": {
      "image/png": "[encoded data removed]",
      "text/plain": [
       "<Figure size 640x480 with 2 Axes>"
      ]
     },
     "metadata": {},
     "output_type": "display_data"
    }
   ],
   "source": [
    "conf = confusion_matrix(y_test,y_predict_label)\n",
    "cmdisplay = ConfusionMatrixDisplay(conf, display_labels=['Sinus','VF'])\n",
    "cmdisplay.plot()\n",
    "#plt.show()"
   ]
  },
  {
   "cell_type": "code",
   "execution_count": 60,
   "id": "6eaf9616",
   "metadata": {},
   "outputs": [
    {
     "name": "stdout",
     "output_type": "stream",
     "text": [
      "You must install pydot (`pip install pydot`) and install graphviz (see instructions at https://graphviz.gitlab.io/download/) for plot_model to work.\n"
     ]
    }
   ],
   "source": [
    "tf.keras.utils.plot_model(cnn_transformer_model, to_file ='cnn_trasform.png', show_shapes = True, show_layer_names = True)"
   ]
  },
  {
   "cell_type": "code",
   "execution_count": 80,
   "id": "01966f2e",
   "metadata": {},
   "outputs": [
    {
     "name": "stdout",
     "output_type": "stream",
     "text": [
      "Requirement already satisfied: pydot in c:\\users\\yasuk3\\anaconda3\\lib\\site-packages (1.4.2)\n",
      "Requirement already satisfied: pyparsing>=2.1.4 in c:\\users\\yasuk3\\anaconda3\\lib\\site-packages (from pydot) (3.0.9)\n",
      "Note: you may need to restart the kernel to use updated packages.\n"
     ]
    }
   ],
   "source": [
    "pip install pydot"
   ]
  },
  {
   "cell_type": "code",
   "execution_count": null,
   "id": "67e2da52",
   "metadata": {},
   "outputs": [],
   "source": []
  }
 ],
 "metadata": {
  "kernelspec": {
   "display_name": "Python 3 (ipykernel)",
   "language": "python",
   "name": "python3"
  },
  "language_info": {
   "codemirror_mode": {
    "name": "ipython",
    "version": 3
   },
   "file_extension": ".py",
   "mimetype": "text/x-python",
   "name": "python",
   "nbconvert_exporter": "python",
   "pygments_lexer": "ipython3",
   "version": "3.9.15"
  }
 },
 "nbformat": 4,
 "nbformat_minor": 5
}
